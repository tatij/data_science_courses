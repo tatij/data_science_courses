{
  "nbformat": 4,
  "nbformat_minor": 0,
  "metadata": {
    "colab": {
      "provenance": []
    },
    "kernelspec": {
      "name": "python3",
      "display_name": "Python 3"
    },
    "language_info": {
      "name": "python"
    }
  },
  "cells": [
    {
      "cell_type": "markdown",
      "source": [
        "1.\tСоздать кортеж, содержащий 4 разных числа. Вывести на экран значение второго элемента кортежа."
      ],
      "metadata": {
        "id": "hzMlHhDk2r6G"
      }
    },
    {
      "cell_type": "code",
      "execution_count": null,
      "metadata": {
        "id": "g2786zCm2hzC"
      },
      "outputs": [],
      "source": [
        "list = (3, 5, 7, 12)\n",
        "print(list[1])"
      ]
    }
  ]
}