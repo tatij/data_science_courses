{
  "nbformat": 4,
  "nbformat_minor": 0,
  "metadata": {
    "colab": {
      "provenance": [],
      "toc_visible": true
    },
    "kernelspec": {
      "name": "python3",
      "display_name": "Python 3"
    },
    "language_info": {
      "name": "python"
    }
  },
  "cells": [
    {
      "cell_type": "markdown",
      "source": [
        "1.\tСоздать кортеж, содержащий 4 разных числа. Вывести на экран значение второго элемента кортежа."
      ],
      "metadata": {
        "id": "ssGEASnLBGe4"
      }
    },
    {
      "cell_type": "code",
      "execution_count": null,
      "metadata": {
        "colab": {
          "base_uri": "https://localhost:8080/"
        },
        "id": "HkINtPbTAlL4",
        "outputId": "d14ccb8b-ecb5-4bd8-9c64-6d4912c61e09"
      },
      "outputs": [
        {
          "output_type": "stream",
          "name": "stdout",
          "text": [
            "5\n"
          ]
        }
      ],
      "source": [
        "list = (3, 5, 7, 12)\n",
        "print(list[1])"
      ]
    },
    {
      "cell_type": "markdown",
      "source": [
        "2.\tНаписать программу, которая принимает строку от пользователя и выводит количество символов в этой строке."
      ],
      "metadata": {
        "id": "Vwij3hcxDbGf"
      }
    },
    {
      "cell_type": "code",
      "source": [
        "line = input()\n",
        "print(len(line))\n"
      ],
      "metadata": {
        "colab": {
          "base_uri": "https://localhost:8080/"
        },
        "id": "xIv9KfKVDahy",
        "outputId": "e8a32214-2517-42d3-e7ad-0098a7348686"
      },
      "execution_count": null,
      "outputs": [
        {
          "output_type": "stream",
          "name": "stdout",
          "text": [
            "dgsg\n",
            "4\n"
          ]
        }
      ]
    },
    {
      "cell_type": "markdown",
      "source": [
        "3.\tСоздать словарь, содержащий информацию о студенте: имя, возраст, курс. Вывести всю информацию о студенте на экран."
      ],
      "metadata": {
        "id": "_S9M4ffJEizc"
      }
    },
    {
      "cell_type": "code",
      "source": [
        "student = {\"Name:\": \"Mary\", \"Age:\": 35, \"Course:\": 3}\n",
        "for key in student:\n",
        "  print(key, student[key])"
      ],
      "metadata": {
        "colab": {
          "base_uri": "https://localhost:8080/"
        },
        "id": "OcpJjEbPEl5l",
        "outputId": "a9cf1d47-61ba-436a-85cf-4c953e9a8a88"
      },
      "execution_count": null,
      "outputs": [
        {
          "output_type": "stream",
          "name": "stdout",
          "text": [
            "Name: Mary\n",
            "Age: 35\n",
            "Course: 3\n"
          ]
        }
      ]
    },
    {
      "cell_type": "markdown",
      "source": [
        "4.\tИспользуя цикл, создать список, содержащий все целые числа от 1 до 10, и вывести его на экран."
      ],
      "metadata": {
        "id": "tezwoaHfHKK-"
      }
    },
    {
      "cell_type": "code",
      "source": [
        "x = 0\n",
        "list = []\n",
        "while x < 10:\n",
        "  x = x + 1\n",
        "  list.append(x)\n",
        "print(list)\n",
        "list_2 = []\n",
        "for i in range(1, 11):\n",
        "    list_2.append(i)\n",
        "print(list_2)"
      ],
      "metadata": {
        "colab": {
          "base_uri": "https://localhost:8080/"
        },
        "id": "LKlW2QQyHMMr",
        "outputId": "e1e6861c-61ae-4182-c7b5-625cff560ef6"
      },
      "execution_count": null,
      "outputs": [
        {
          "output_type": "stream",
          "name": "stdout",
          "text": [
            "[1, 2, 3, 4, 5, 6, 7, 8, 9, 10]\n",
            "[1, 2, 3, 4, 5, 6, 7, 8, 9, 10]\n"
          ]
        }
      ]
    },
    {
      "cell_type": "markdown",
      "source": [
        "5.\tНаписать функцию, которая принимает список чисел и возвращает их сумму."
      ],
      "metadata": {
        "id": "u06nC1rLL-xy"
      }
    },
    {
      "cell_type": "code",
      "source": [
        "line = [3, 4, 2]\n",
        "print(sum(line))\n"
      ],
      "metadata": {
        "colab": {
          "base_uri": "https://localhost:8080/"
        },
        "id": "SJa1QxDbMB5d",
        "outputId": "ad01071f-bead-4ced-dba0-0c2b247f2c76"
      },
      "execution_count": null,
      "outputs": [
        {
          "output_type": "stream",
          "name": "stdout",
          "text": [
            "9\n"
          ]
        }
      ]
    },
    {
      "cell_type": "markdown",
      "source": [
        "6.\tСоздать множество из 5 разных чисел, затем добавить в него новое число и вывести на экран."
      ],
      "metadata": {
        "id": "Sxj27hXkOkXN"
      }
    },
    {
      "cell_type": "code",
      "source": [
        "list_many = {2, 4, 6, 3, 11}\n",
        "list_many.add(8)\n",
        "print(list_many)\n"
      ],
      "metadata": {
        "colab": {
          "base_uri": "https://localhost:8080/"
        },
        "id": "KrRreLFQOmtK",
        "outputId": "e34b5202-f204-4c5c-bce1-666c78694823"
      },
      "execution_count": null,
      "outputs": [
        {
          "output_type": "stream",
          "name": "stdout",
          "text": [
            "{2, 3, 4, 6, 8, 11}\n"
          ]
        }
      ]
    },
    {
      "cell_type": "markdown",
      "source": [
        "7.\tНаписать программу, которая принимает от пользователя целое число и выводит на экран его квадрат."
      ],
      "metadata": {
        "id": "1OmvDKlmRgP_"
      }
    },
    {
      "cell_type": "code",
      "source": [
        "number = int(input())\n",
        "print(pow(number, 2))"
      ],
      "metadata": {
        "colab": {
          "base_uri": "https://localhost:8080/"
        },
        "id": "pQD15_0ORg6M",
        "outputId": "0de562ce-6c2a-4161-8fd2-60c35b72c2fa"
      },
      "execution_count": null,
      "outputs": [
        {
          "output_type": "stream",
          "name": "stdout",
          "text": [
            "7\n",
            "49\n"
          ]
        }
      ]
    },
    {
      "cell_type": "markdown",
      "source": [
        "8.\tСоздать словарь с пятью парами «ключ-значение», где ключи - названия фруктов, а значения - их цвета. Вывести значения всех ключей."
      ],
      "metadata": {
        "id": "HBJVK91PYy7i"
      }
    },
    {
      "cell_type": "code",
      "source": [
        "fruits = {\n",
        "  'banan' : 'yellow',\n",
        "  'apple' : 'red',\n",
        "  'kiwi' : 'green',\n",
        "  'orange' : 'orange',\n",
        "  'grape' : 'purple'\n",
        "}\n",
        "fruitsKeys = fruits.keys()\n",
        "print(fruitsKeys)"
      ],
      "metadata": {
        "colab": {
          "base_uri": "https://localhost:8080/"
        },
        "id": "9GyleP2CZDzJ",
        "outputId": "2acbe875-2f52-4923-cc29-4c875db3aeab"
      },
      "execution_count": null,
      "outputs": [
        {
          "output_type": "stream",
          "name": "stdout",
          "text": [
            "dict_keys(['banan', 'apple', 'kiwi', 'orange', 'grape'])\n"
          ]
        }
      ]
    },
    {
      "cell_type": "markdown",
      "source": [
        "9.\tНаписать функцию, которая принимает строку и выводит ее в обратном порядке."
      ],
      "metadata": {
        "id": "0QH6qAukbrQ2"
      }
    },
    {
      "cell_type": "code",
      "source": [
        "line2 = input()\n",
        "print(line2[::-1])"
      ],
      "metadata": {
        "colab": {
          "base_uri": "https://localhost:8080/"
        },
        "id": "VbfuAT6Fbuhj",
        "outputId": "0de456c8-b26d-4aeb-8325-61a6a0729878"
      },
      "execution_count": null,
      "outputs": [
        {
          "output_type": "stream",
          "name": "stdout",
          "text": [
            "ghjkl\n",
            "lkjhg\n"
          ]
        }
      ]
    },
    {
      "cell_type": "markdown",
      "source": [
        "10.\tСоздать список из 5 строк и заменить в нем третий элемент на новую строку."
      ],
      "metadata": {
        "id": "f51zu4r2cjHv"
      }
    },
    {
      "cell_type": "code",
      "source": [
        "list3 = ['line1', 'line2', 'line3', 'line4', 'line5']\n",
        "print(list3)\n",
        "list3[2] = list3[1]\n",
        "print(list3)"
      ],
      "metadata": {
        "colab": {
          "base_uri": "https://localhost:8080/"
        },
        "id": "43XjkESpclvW",
        "outputId": "c642b899-dc4e-49db-e2ab-3a6e7a119207"
      },
      "execution_count": null,
      "outputs": [
        {
          "output_type": "stream",
          "name": "stdout",
          "text": [
            "['line1', 'line2', 'line3', 'line4', 'line5']\n",
            "['line1', 'line2', 'line2', 'line4', 'line5']\n"
          ]
        }
      ]
    }
  ]
}
